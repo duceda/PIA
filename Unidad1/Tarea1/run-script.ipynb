{
 "cells": [
  {
   "cell_type": "code",
   "execution_count": 5,
   "id": "2a1958f2-5f3d-43da-94ac-6d93c47644ac",
   "metadata": {},
   "outputs": [
    {
     "name": "stdout",
     "output_type": "stream",
     "text": [
      "Input list 1: [4, -1, 2, 4, 3, -5, 0, 2]\n",
      "Output list 1: [0, 2, 3, 4]\n",
      "Input list 2: [4, -1, 2, 4, 3, -5, 0, 2]\n",
      "Output list 2:[0, 2, 3, 4]\n"
     ]
    }
   ],
   "source": [
    "%run pia-u1-tarea1-1.py"
   ]
  },
  {
   "cell_type": "code",
   "execution_count": 16,
   "id": "4ed5045c-71fd-4fe0-b903-4630a63fdfbd",
   "metadata": {},
   "outputs": [
    {
     "name": "stdout",
     "output_type": "stream",
     "text": [
      "Input list: ['hello', 'world', 'house', 'car', 'python']\n",
      "Sorted list: ['car', 'hello', 'house', 'python', 'world']\n",
      "File content Formatted: hello world in my house theres a car and in that car python lives\n",
      "python python everywhere from the garage to the world beyond\n",
      "hello again shouts the car racing past the house with joy\n",
      "is this world real or just a python dream on wheels\n",
      "Final dictionary: {'car': 3, 'hello': 2, 'house': 2, 'python': 4, 'world': 3}\n"
     ]
    }
   ],
   "source": [
    "%run pia-u1-tarea1-2.py"
   ]
  },
  {
   "cell_type": "code",
   "execution_count": 23,
   "id": "8a6f7dd0-3fb3-406d-a13b-256985847145",
   "metadata": {},
   "outputs": [
    {
     "name": "stdout",
     "output_type": "stream",
     "text": [
      "Num list 1: [0, 1, 2, 3, 4, 5, 6, 7, 8, 9, 10, 17, 25, 43]\n",
      "Num list 2: [0, 2, 4, 6, 8, 10, 16, 18, 20]\n",
      "Output dictionary: {'intersection': {0, 2, 4, 6, 8, 10}, 'union': {0, 1, 2, 3, 4, 5, 6, 7, 8, 9, 10, 16, 17, 18, 20, 25, 43}, 'symetric_diff': {1, 3, 5, 7, 9, 43, 16, 17, 18, 20, 25}}\n"
     ]
    }
   ],
   "source": [
    "%run pia-u1-tarea1-3.py"
   ]
  },
  {
   "cell_type": "code",
   "execution_count": null,
   "id": "42c10413-6b35-4148-8657-ec4c8efb791f",
   "metadata": {},
   "outputs": [],
   "source": []
  },
  {
   "cell_type": "code",
   "execution_count": null,
   "id": "7d3bd5ae-1e7a-4a29-9779-a096314e53b9",
   "metadata": {},
   "outputs": [],
   "source": []
  }
 ],
 "metadata": {
  "kernelspec": {
   "display_name": "anaconda-panel-2023.05-py310",
   "language": "python",
   "name": "conda-env-anaconda-panel-2023.05-py310-py"
  },
  "language_info": {
   "codemirror_mode": {
    "name": "ipython",
    "version": 3
   },
   "file_extension": ".py",
   "mimetype": "text/x-python",
   "name": "python",
   "nbconvert_exporter": "python",
   "pygments_lexer": "ipython3",
   "version": "3.11.5"
  }
 },
 "nbformat": 4,
 "nbformat_minor": 5
}
